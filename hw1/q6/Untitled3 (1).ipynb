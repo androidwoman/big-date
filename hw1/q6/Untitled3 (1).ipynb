{
  "cells": [
    {
      "cell_type": "code",
      "execution_count": 1,
      "metadata": {
        "id": "H8zzM9wlUjx-"
      },
      "outputs": [],
      "source": [
        "import re\n",
        "import hashlib\n",
        "from collections import defaultdict"
      ]
    },
    {
      "cell_type": "code",
      "execution_count": 2,
      "metadata": {
        "id": "J9kJS0r4Unzz"
      },
      "outputs": [],
      "source": [
        "\n",
        "\n",
        "def getTokens(text):\n",
        "    \n",
        "    text = re.sub(r'[^\\w\\s]', '', text).lower()\n",
        "    \n",
        "    tokens = text.split()\n",
        "    return tokens"
      ]
    },
    {
      "cell_type": "code",
      "execution_count": 3,
      "metadata": {
        "id": "oACvUt0JUyvy"
      },
      "outputs": [],
      "source": [
        "def getTf(tokens):\n",
        "    \n",
        "    tf = defaultdict(int)\n",
        "    for token in tokens:\n",
        "        tf[token] += 1\n",
        "    return tf"
      ]
    },
    {
      "cell_type": "code",
      "execution_count": 4,
      "metadata": {
        "id": "scxjWUEqU1PQ"
      },
      "outputs": [],
      "source": [
        "def hashToken(token):\n",
        "    \n",
        "    return hashlib.sha1(token.encode('utf-8')).hexdigest()"
      ]
    },
    {
      "cell_type": "code",
      "execution_count": 5,
      "metadata": {
        "id": "vZz-uo9jU7Jf"
      },
      "outputs": [],
      "source": [
        "def binHash(bin_hash):\n",
        "    \n",
        "    vec = []\n",
        "    for bit in bin_hash:\n",
        "        if bit == '1':\n",
        "            vec.append(1)\n",
        "        else:\n",
        "            vec.append(-1)\n",
        "    return vec"
      ]
    },
    {
      "cell_type": "code",
      "execution_count": 6,
      "metadata": {
        "id": "j3tb7SA4VLHd"
      },
      "outputs": [],
      "source": [
        "def simhash(text, hash_bits=64):\n",
        "    tokens = getTokens(text)\n",
        "    print(\"tokens:\",tokens)\n",
        "    tf = getTf(tokens)\n",
        "    print(\"weights:\",tf)\n",
        "\n",
        "    \n",
        "    final_vec = [0] * hash_bits\n",
        "\n",
        "    for token, weight in tf.items():\n",
        "        \n",
        "        token_hash = hashToken(token)\n",
        "        bin_hash = bin(int(token_hash, 16))[2:].zfill(hash_bits)\n",
        "        vec = binHash(bin_hash)\n",
        "\n",
        "        \n",
        "        for i in range(hash_bits):\n",
        "            final_vec[i] += vec[i] * weight\n",
        "\n",
        "    \n",
        "    final_hash = ''\n",
        "    for v in final_vec:\n",
        "        if v > 0:\n",
        "            final_hash += '1'\n",
        "        else:\n",
        "            final_hash += '0'\n",
        "\n",
        "    return final_hash"
      ]
    },
    {
      "cell_type": "code",
      "execution_count": 7,
      "metadata": {
        "id": "JpNxhbgHVkid"
      },
      "outputs": [],
      "source": [
        "def hamming_distance(hash1, hash2):\n",
        "   \n",
        "    return sum(ch1 != ch2 for ch1, ch2 in zip(hash1, hash2))"
      ]
    },
    {
      "cell_type": "code",
      "execution_count": 13,
      "metadata": {
        "colab": {
          "base_uri": "https://localhost:8080/"
        },
        "id": "JmHJOM6gVt1f",
        "outputId": "709fd1d5-f43b-4d2f-c171-36c92194352d"
      },
      "outputs": [
        {
          "name": "stdout",
          "output_type": "stream",
          "text": [
            "tokens: ['this', 'is', 'a', 'sample', 'document', 'to', 'test']\n",
            "weights: defaultdict(<class 'int'>, {'this': 1, 'is': 1, 'a': 1, 'sample': 1, 'document': 1, 'to': 1, 'test': 1})\n",
            "tokens: ['this', 'is', 'a', 'sample', 'document', 'to', 'test', 'simhash']\n",
            "weights: defaultdict(<class 'int'>, {'this': 1, 'is': 1, 'a': 1, 'sample': 1, 'document': 1, 'to': 1, 'test': 1, 'simhash': 1})\n",
            "SimHash 1: 1000011001010101001101111111110101101001101100111110111101100100\n",
            "SimHash 2: 1000000001000100001101001011010101001000101000101010110101100100\n",
            "Hamming Distance: 14\n"
          ]
        }
      ],
      "source": [
        "text1 = \"This is a sample document to test\"\n",
        "text2 = \"This is a sample document to test simhash\"\n",
        "hash1 = simhash(text1)\n",
        "hash2 = simhash(text2)\n",
        "\n",
        "print(f\"SimHash 1: {hash1}\")\n",
        "print(f\"SimHash 2: {hash2}\")\n",
        "print(f\"Hamming Distance: {hamming_distance(hash1, hash2)}\")"
      ]
    },
    {
      "cell_type": "code",
      "execution_count": 10,
      "metadata": {
        "colab": {
          "base_uri": "https://localhost:8080/"
        },
        "id": "MAq0VT8MV37-",
        "outputId": "645f287e-f340-4fcb-c96d-7ac5d1b71ef9"
      },
      "outputs": [
        {
          "name": "stdout",
          "output_type": "stream",
          "text": [
            "tokens: ['this', 'is', 'a', 'sample', 'document', 'to', 'test']\n",
            "weights: defaultdict(<class 'int'>, {'this': 1, 'is': 1, 'a': 1, 'sample': 1, 'document': 1, 'to': 1, 'test': 1})\n",
            "tokens: ['this', 'is', 'a', 'sample', 'document', 'to', 'test']\n",
            "weights: defaultdict(<class 'int'>, {'this': 1, 'is': 1, 'a': 1, 'sample': 1, 'document': 1, 'to': 1, 'test': 1})\n",
            "SimHash 1: 1000011001010101001101111111110101101001101100111110111101100100\n",
            "SimHash 2: 1000011001010101001101111111110101101001101100111110111101100100\n",
            "Hamming Distance: 0\n"
          ]
        }
      ],
      "source": [
        "hash1 = simhash(text1)\n",
        "hash2 = simhash(text1)\n",
        "\n",
        "print(f\"SimHash 1: {hash1}\")\n",
        "print(f\"SimHash 2: {hash2}\")\n",
        "print(f\"Hamming Distance: {hamming_distance(hash1, hash2)}\")"
      ]
    },
    {
      "cell_type": "code",
      "execution_count": 12,
      "metadata": {
        "colab": {
          "base_uri": "https://localhost:8080/"
        },
        "id": "yeZjtMkzV7cb",
        "outputId": "cc8509cd-523a-4ec6-fd3e-a588f6ceca94"
      },
      "outputs": [
        {
          "name": "stdout",
          "output_type": "stream",
          "text": [
            "tokens: ['this', 'is', 'a', 'sample', 'document', 'to', 'test']\n",
            "weights: defaultdict(<class 'int'>, {'this': 1, 'is': 1, 'a': 1, 'sample': 1, 'document': 1, 'to': 1, 'test': 1})\n",
            "tokens: ['i', 'am', 'sooo', 'diffrent', 'from', 'last', 'text', 'yohooo']\n",
            "weights: defaultdict(<class 'int'>, {'i': 1, 'am': 1, 'sooo': 1, 'diffrent': 1, 'from': 1, 'last': 1, 'text': 1, 'yohooo': 1})\n",
            "SimHash 1: 1000011001010101001101111111110101101001101100111110111101100100\n",
            "SimHash 2: 1001000011111010000000100011001010100100111011010001100000000000\n",
            "Hamming Distance: 39\n"
          ]
        }
      ],
      "source": [
        "text1 = \"This is a sample document to test\"\n",
        "text2 = \"i am sooo diffrent from last text yohooo\"\n",
        "hash1 = simhash(text1)\n",
        "hash2 = simhash(text2)\n",
        "print(f\"SimHash 1: {hash1}\")\n",
        "print(f\"SimHash 2: {hash2}\")\n",
        "print(f\"Hamming Distance: {hamming_distance(hash1, hash2)}\")"
      ]
    },
    {
      "cell_type": "code",
      "execution_count": null,
      "metadata": {
        "id": "RMyWoRBXWEwI"
      },
      "outputs": [],
      "source": []
    }
  ],
  "metadata": {
    "colab": {
      "provenance": []
    },
    "kernelspec": {
      "display_name": "Python 3",
      "name": "python3"
    },
    "language_info": {
      "name": "python"
    }
  },
  "nbformat": 4,
  "nbformat_minor": 0
}
