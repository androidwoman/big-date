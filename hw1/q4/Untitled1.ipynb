{
  "cells": [
    {
      "cell_type": "code",
      "execution_count": 1,
      "metadata": {
        "colab": {
          "base_uri": "https://localhost:8080/"
        },
        "id": "4K6IApZ1ctig",
        "outputId": "d5006745-1612-4dbf-9f33-36852801aac7"
      },
      "outputs": [
        {
          "name": "stdout",
          "output_type": "stream",
          "text": [
            "Collecting pyspark\n",
            "  Downloading pyspark-3.5.1.tar.gz (317.0 MB)\n",
            "\u001b[2K     \u001b[90m━━━━━━━━━━━━━━━━━━━━━━━━━━━━━━━━━━━━━━━━\u001b[0m \u001b[32m317.0/317.0 MB\u001b[0m \u001b[31m1.8 MB/s\u001b[0m eta \u001b[36m0:00:00\u001b[0m\n",
            "\u001b[?25h  Preparing metadata (setup.py) ... \u001b[?25l\u001b[?25hdone\n",
            "Requirement already satisfied: py4j==0.10.9.7 in /usr/local/lib/python3.10/dist-packages (from pyspark) (0.10.9.7)\n",
            "Building wheels for collected packages: pyspark\n",
            "  Building wheel for pyspark (setup.py) ... \u001b[?25l\u001b[?25hdone\n",
            "  Created wheel for pyspark: filename=pyspark-3.5.1-py2.py3-none-any.whl size=317488491 sha256=d5945930ef9b5a2f0811b3eb58439380c4f7be4339c96978e6c9b73a98a20c7c\n",
            "  Stored in directory: /root/.cache/pip/wheels/80/1d/60/2c256ed38dddce2fdd93be545214a63e02fbd8d74fb0b7f3a6\n",
            "Successfully built pyspark\n",
            "Installing collected packages: pyspark\n",
            "Successfully installed pyspark-3.5.1\n"
          ]
        }
      ],
      "source": [
        "!pip install pyspark"
      ]
    },
    {
      "cell_type": "code",
      "execution_count": 2,
      "metadata": {
        "id": "bMjlQiJuc-eN"
      },
      "outputs": [],
      "source": [
        "from pyspark.sql import SparkSession"
      ]
    },
    {
      "cell_type": "code",
      "execution_count": 3,
      "metadata": {
        "id": "Ykrqy_TOdJF8"
      },
      "outputs": [],
      "source": [
        "\n",
        "\n",
        "my_spark_session = SparkSession.builder.getOrCreate()\n",
        "my_spark_context = my_spark_session.sparkContext\n"
      ]
    },
    {
      "cell_type": "code",
      "execution_count": 4,
      "metadata": {
        "id": "6ybmveAZdLHw"
      },
      "outputs": [],
      "source": [
        "path_to_data = \"/content/q4/data/friendships.txt\"\n",
        "raw_data = my_spark_context.textFile(path_to_data)\n"
      ]
    },
    {
      "cell_type": "code",
      "execution_count": 5,
      "metadata": {
        "id": "6FdFSXsadT1v"
      },
      "outputs": [],
      "source": [
        "def process_line(line):\n",
        "    parts = line.split('\\t')\n",
        "    if len(parts) == 1 or parts[0] == '':\n",
        "        return []\n",
        "\n",
        "    user_id = int(parts[0])\n",
        "    friends_list = parts[1].split(',')\n",
        "\n",
        "    direct_friends = []\n",
        "    mutual_friend_suggestions = []\n",
        "\n",
        "    for friend in friends_list:\n",
        "        if friend != '':\n",
        "            direct_friends.append(((user_id, int(friend)), 0))\n",
        "\n",
        "    for i in range(len(friends_list) - 1):\n",
        "        for j in range(i + 1, len(friends_list)):\n",
        "            mutual_friend_suggestions.append(((int(friends_list[i]), int(friends_list[j])), 1))\n",
        "            mutual_friend_suggestions.append(((int(friends_list[j]), int(friends_list[i])), 1))\n",
        "\n",
        "    return direct_friends + mutual_friend_suggestions\n"
      ]
    },
    {
      "cell_type": "code",
      "execution_count": 6,
      "metadata": {
        "id": "REKXuE7odZEr"
      },
      "outputs": [],
      "source": [
        "friend_pairs = raw_data.flatMap(lambda line: process_line(line))"
      ]
    },
    {
      "cell_type": "code",
      "execution_count": 10,
      "metadata": {
        "id": "5XPzck-odX4_"
      },
      "outputs": [],
      "source": [
        "existing_friends = friend_pairs.filter(lambda relationship: relationship[1] == 0)"
      ]
    },
    {
      "cell_type": "code",
      "execution_count": 11,
      "metadata": {
        "id": "Wx7k6yKgl_uB"
      },
      "outputs": [],
      "source": [
        "mutual_friends = friend_pairs.subtractByKey(existing_friends).reduceByKey(lambda a, b: a + b)\n",
        "mutual_friends_grouped = mutual_friends.map(lambda x: (x[0][0], (x[0][1], x[1]))).groupByKey().mapValues(list)"
      ]
    },
    {
      "cell_type": "code",
      "execution_count": 13,
      "metadata": {
        "id": "ENytZuH_mDgv"
      },
      "outputs": [],
      "source": [
        "def suggest_friends(user_and_potential_friends, top_n=10):\n",
        "    user, potential_friends_list = user_and_potential_friends\n",
        "\n",
        "    sorted_potential_friends = sorted(potential_friends_list, key=lambda friend_info: (-friend_info[1], friend_info[0]))[:top_n]\n",
        "\n",
        "    recommendations = [friend for friend, mutual_count in sorted_potential_friends]\n",
        "\n",
        "    return user, recommendations\n"
      ]
    },
    {
      "cell_type": "code",
      "execution_count": 14,
      "metadata": {
        "id": "bXlNYGmPmGa7"
      },
      "outputs": [],
      "source": [
        "final_suggestions = mutual_friends_grouped.map(lambda user_and_friends: suggest_friends(user_and_friends))\n",
        "formatted_results = final_suggestions.map(lambda user_recs: \"{}\\t{}\".format(user_recs[0], \",\".join(map(lambda x: str(x), user_recs[1])))).collect()\n"
      ]
    },
    {
      "cell_type": "code",
      "execution_count": 16,
      "metadata": {
        "colab": {
          "base_uri": "https://localhost:8080/"
        },
        "id": "O2biKmeKmMD_",
        "outputId": "94b5a8a2-9fdf-44b9-9760-c9a955c04cd6"
      },
      "outputs": [
        {
          "name": "stdout",
          "output_type": "stream",
          "text": [
            "11\t27552,7785,27573,27574,27589,27590,27600,27617,27620,27667\n"
          ]
        }
      ],
      "source": [
        "target_user_ids = ['11']\n",
        "for target_user_id in target_user_ids:\n",
        "    for line in formatted_results:\n",
        "        user, recommendations = line.split('\\t')\n",
        "        if user == target_user_id:\n",
        "            print(line)"
      ]
    },
    {
      "cell_type": "code",
      "execution_count": null,
      "metadata": {
        "id": "iX5iIJjCqryo"
      },
      "outputs": [],
      "source": []
    }
  ],
  "metadata": {
    "colab": {
      "provenance": []
    },
    "kernelspec": {
      "display_name": "Python 3",
      "name": "python3"
    },
    "language_info": {
      "name": "python"
    }
  },
  "nbformat": 4,
  "nbformat_minor": 0
}
