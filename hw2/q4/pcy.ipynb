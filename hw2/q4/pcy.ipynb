{
 "cells": [
  {
   "cell_type": "code",
   "execution_count": 7,
   "metadata": {},
   "outputs": [],
   "source": [
    "import os\n",
    "import numpy as np\n",
    "from collections import defaultdict\n",
    "import itertools"
   ]
  },
  {
   "cell_type": "code",
   "execution_count": 1,
   "metadata": {},
   "outputs": [
    {
     "name": "stdout",
     "output_type": "stream",
     "text": [
      "Sample data: [['FRO11987', 'ELE17451', 'ELE89019', 'SNA90258', 'GRO99222'], ['GRO99222', 'GRO12298', 'FRO12685', 'ELE91550', 'SNA11465', 'ELE26917', 'ELE52966', 'FRO90334', 'SNA30755', 'ELE17451', 'FRO84225', 'SNA80192'], ['ELE17451', 'GRO73461', 'DAI22896', 'SNA99873', 'FRO86643'], ['ELE17451', 'ELE37798', 'FRO86643', 'GRO56989', 'ELE23393', 'SNA11465'], ['ELE17451', 'SNA69641', 'FRO86643', 'FRO78087', 'SNA11465', 'GRO39357', 'ELE28573', 'ELE11375', 'DAI54444']]\n"
     ]
    }
   ],
   "source": [
    "\n",
    "\n",
    "def read_data(file_path):\n",
    "    dataset = []\n",
    "    with open(file_path, 'r') as file:\n",
    "        for line in file:\n",
    "            transaction = line.strip().split()\n",
    "            dataset.append(transaction)\n",
    "    return dataset\n",
    "\n",
    "\n",
    "file_path = 'browsing.txt'\n",
    "\n",
    "\n",
    "dataset = read_data(file_path)\n",
    "print(\"Sample data:\", dataset[:5])\n"
   ]
  },
  {
   "cell_type": "code",
   "execution_count": 2,
   "metadata": {},
   "outputs": [],
   "source": [
    "\n",
    "\n",
    "def create_bitmap(hash_buckets, support_threshold):\n",
    "    bitmap = np.zeros(len(hash_buckets))\n",
    "    for i, count in enumerate(hash_buckets):\n",
    "        if count >= support_threshold:\n",
    "            bitmap[i] = 1\n",
    "    return bitmap"
   ]
  },
  {
   "cell_type": "code",
   "execution_count": 3,
   "metadata": {},
   "outputs": [],
   "source": [
    "def get_frequent_items(dataset, min_support):\n",
    "    item_counts = defaultdict(int)\n",
    "    for transaction in dataset:\n",
    "        for item in transaction:\n",
    "            item_counts[item] += 1\n",
    "    return {item for item, count in item_counts.items() if count >= min_support}"
   ]
  },
  {
   "cell_type": "code",
   "execution_count": 4,
   "metadata": {},
   "outputs": [],
   "source": [
    "\n",
    "\n",
    "\n",
    "\n",
    "def pcy(dataset, min_support):\n",
    "    \n",
    "    hash_buckets = defaultdict(int)\n",
    "    for transaction in dataset:\n",
    "        for pair in itertools.combinations(transaction, 2):\n",
    "            hash_buckets[hash(pair) % len(dataset)] += 1\n",
    "\n",
    "    bitmap = create_bitmap(hash_buckets, min_support)\n",
    "\n",
    "    \n",
    "    frequent_items = get_frequent_items(dataset, min_support)\n",
    "    candidate_pairs = set()\n",
    "    for transaction in dataset:\n",
    "        valid_items = [item for item in transaction if item in frequent_items]\n",
    "        for pair in itertools.combinations(valid_items, 2):\n",
    "            if bitmap[hash(pair) % len(dataset)] == 1:\n",
    "                candidate_pairs.add(pair)\n",
    "\n",
    "    \n",
    "    pair_counts = defaultdict(int)\n",
    "    for transaction in dataset:\n",
    "        for pair in itertools.combinations(transaction, 2):\n",
    "            if pair in candidate_pairs:\n",
    "                pair_counts[pair] += 1\n",
    "\n",
    "    frequent_pairs = {pair for pair, count in pair_counts.items() if count >= min_support}\n",
    "    return frequent_pairs\n",
    "\n",
    "\n"
   ]
  },
  {
   "cell_type": "code",
   "execution_count": 8,
   "metadata": {},
   "outputs": [
    {
     "name": "stdout",
     "output_type": "stream",
     "text": [
      "Frequent Itemsets (PCY): {('FRO92469', 'DAI75645'), ('DAI55148', 'DAI62779'), ('SNA45677', 'ELE78169'), ('ELE99737', 'DAI62779'), ('SNA99873', 'SNA45677'), ('DAI62779', 'SNA55762'), ('ELE32164', 'ELE66810'), ('DAI75645', 'GRO71621'), ('SNA53220', 'FRO19221'), ('GRO73461', 'GRO71621'), ('DAI42493', 'ELE92920'), ('ELE17451', 'SNA96271'), ('DAI85309', 'SNA93860'), ('FRO40251', 'ELE20847'), ('FRO40251', 'GRO38983'), ('GRO46854', 'FRO40251'), ('FRO85978', 'SNA99873'), ('ELE17451', 'ELE32164'), ('ELE26917', 'GRO99222'), ('GRO73461', 'DAI83733'), ('GRO46854', 'FRO79022'), ('GRO21487', 'ELE66810'), ('DAI62779', 'ELE66810'), ('FRO31317', 'FRO80039'), ('ELE32164', 'DAI62779'), ('FRO79022', 'DAI62779'), ('ELE59028', 'FRO85978'), ('GRO46854', 'GRO73461'), ('GRO21487', 'GRO81647'), ('FRO31317', 'DAI75645'), ('FRO53271', 'GRO59710'), ('SNA80324', 'DAI75645'), ('FRO89565', 'DAI62779'), ('GRO30386', 'DAI62779'), ('GRO73461', 'GRO30386'), ('DAI62779', 'ELE56788'), ('GRO61133', 'GRO81087'), ('FRO80039', 'DAI62779'), ('FRO85978', 'ELE91337'), ('FRO35904', 'FRO99783'), ('ELE32164', 'GRO94758'), ('DAI62779', 'ELE21353'), ('ELE20847', 'FRO40251'), ('DAI48891', 'SNA45677'), ('GRO73461', 'ELE20398'), ('GRO21487', 'DAI62779'), ('ELE92920', 'ELE32164'), ('GRO46854', 'SNA90094'), ('GRO94758', 'ELE78169'), ('ELE26917', 'DAI75645'), ('SNA45677', 'FRO80039'), ('FRO40251', 'SNA47306'), ('FRO85978', 'ELE17451'), ('FRO53271', 'DAI31081'), ('FRO85978', 'FRO40251'), ('ELE62598', 'DAI62779'), ('SNA45677', 'DAI75645'), ('FRO85978', 'GRO56726'), ('SNA38068', 'ELE17451'), ('SNA45677', 'DAI85309'), ('GRO59710', 'DAI62779'), ('DAI55148', 'ELE17451'), ('DAI55148', 'FRO40251'), ('ELE17451', 'SNA45677'), ('SNA99873', 'DAI62779'), ('FRO16142', 'DAI62779'), ('ELE12792', 'DAI62779'), ('DAI88807', 'FRO16142'), ('SNA80324', 'ELE12792'), ('SNA80324', 'ELE26917'), ('ELE17451', 'FRO92469'), ('FRO85978', 'GRO73461'), ('SNA80324', 'GRO71621'), ('DAI62779', 'ELE20847'), ('DAI62779', 'GRO38983'), ('ELE17451', 'SNA55762'), ('GRO59710', 'GRO94758'), ('SNA55952', 'DAI62779'), ('SNA24799', 'DAI62779'), ('GRO73461', 'SNA38068'), ('GRO73461', 'SNA99873'), ('GRO46854', 'DAI75645'), ('FRO40251', 'DAI42493'), ('SNA18336', 'GRO15017'), ('GRO46854', 'DAI85309'), ('DAI88088', 'ELE38289'), ('FRO53271', 'FRO31317'), ('FRO31317', 'DAI83733'), ('SNA72163', 'SNA59903'), ('GRO85051', 'DAI62779'), ('DAI87448', 'DAI62779'), ('SNA80324', 'DAI83733'), ('ELE59935', 'FRO80039'), ('FRO85978', 'SNA90094'), ('ELE74009', 'GRO64900'), ('ELE74009', 'SNA95666'), ('SNA45677', 'GRO71621'), ('SNA53220', 'SNA93860'), ('ELE92920', 'GRO15017'), ('GRO73461', 'GRO21487'), ('FRO31317', 'GRO30386'), ('SNA80324', 'GRO30386'), ('DAI85309', 'SNA55762'), ('GRO73461', 'DAI43223'), ('FRO40251', 'FRO80039'), ('FRO85978', 'SNA93860'), ('GRO30386', 'ELE59935'), ('ELE91337', 'SNA45677'), ('GRO21487', 'GRO85051'), ('SNA45677', 'DAI83733'), ('ELE20847', 'DAI75645'), ('ELE17451', 'ELE56788'), ('GRO73461', 'ELE62598'), ('DAI75645', 'ELE17451'), ('GRO73461', 'ELE17451'), ('GRO46854', 'GRO71621'), ('DAI75645', 'FRO40251'), ('DAI62779', 'SNA47306'), ('GRO73461', 'FRO40251'), ('DAI62779', 'ELE78169'), ('GRO73461', 'GRO56726'), ('FRO40251', 'ELE74009'), ('ELE17451', 'DAI62779'), ('SNA80324', 'GRO35122'), ('FRO85978', 'DAI75645'), ('ELE32164', 'SNA90094'), ('ELE37048', 'ELE53126'), ('FRO85978', 'DAI85309'), ('SNA62128', 'ELE17451'), ('DAI22177', 'DAI85309'), ('ELE99737', 'FRO80039'), ('DAI62779', 'FRO99783'), ('DAI55148', 'DAI75645'), ('DAI63921', 'SNA45677'), ('DAI55148', 'DAI85309'), ('FRO85978', 'SNA55952'), ('FRO85978', 'FRO35904'), ('FRO40251', 'DAI93865'), ('ELE99737', 'DAI85309'), ('GRO71621', 'ELE17451'), ('GRO24246', 'SNA30859'), ('GRO71621', 'FRO40251'), ('DAI62779', 'DAI83948'), ('FRO66272', 'DAI62779'), ('GRO46854', 'DAI83733'), ('DAI62779', 'GRO36567'), ('FRO53271', 'SNA80324'), ('DAI83733', 'DAI62779'), ('DAI35347', 'ELE66810'), ('DAI62779', 'SNA90094'), ('DAI22896', 'SNA80324'), ('DAI88807', 'SNA59903'), ('FRO85978', 'ELE66600'), ('FRO40251', 'FRO92469'), ('GRO89004', 'ELE25077'), ('ELE32164', 'FRO80039'), ('FRO92469', 'FRO40251'), ('ELE92920', 'DAI62779'), ('ELE32164', 'DAI85309'), ('FRO85978', 'ELE26917'), ('ELE32164', 'FRO43226'), ('FRO85978', 'GRO71621'), ('FRO32293', 'ELE17451'), ('DAI87448', 'GRO73461'), ('DAI46755', 'FRO81176'), ('GRO30386', 'DAI75645'), ('DAI62779', 'SNA40784'), ('DAI42493', 'ELE32164'), ('GRO73461', 'GRO61133'), ('FRO73056', 'GRO73461'), ('ELE91337', 'DAI62779'), ('GRO21487', 'FRO80039'), ('GRO46854', 'DAI63921'), ('DAI62779', 'FRO80039'), ('DAI88807', 'SNA72163'), ('GRO21487', 'DAI75645'), ('FRO85978', 'DAI83733'), ('GRO21487', 'DAI85309'), ('DAI62779', 'DAI85309'), ('SNA99873', 'SNA40784'), ('FRO40251', 'ELE66810'), ('ELE26917', 'ELE24630'), ('FRO40251', 'GRO30386'), ('FRO31317', 'ELE17451'), ('GRO59710', 'FRO80039'), ('GRO73461', 'DAI88807'), ('SNA80324', 'ELE17451'), ('DAI62779', 'DAI67189'), ('DAI22896', 'SNA72163'), ('GRO73461', 'GRO38814'), ('SNA99873', 'DAI85309'), ('ELE32164', 'GRO71621'), ('FRO53271', 'DAI88807'), ('DAI48891', 'GRO36567'), ('FRO19221', 'ELE69552'), ('SNA18336', 'ELE17451'), ('GRO73461', 'FRO47962'), ('SNA80324', 'DAI55148'), ('GRO73461', 'DAI22177'), ('FRO40251', 'DAI62779'), ('ELE26917', 'ELE17451'), ('DAI62779', 'DAI22896'), ('DAI62779', 'ELE12792'), ('ELE56788', 'DAI62779'), ('SNA45677', 'ELE17451'), ('GRO73461', 'ELE66600'), ('SNA59903', 'SNA72163'), ('ELE32164', 'GRO59710'), ('GRO21487', 'GRO71621'), ('DAI91290', 'GRO30386'), ('DAI62779', 'GRO15017'), ('DAI62779', 'GRO71621'), ('ELE92920', 'FRO40251'), ('DAI62779', 'FRO75586'), ('GRO73461', 'GRO64900'), ('FRO53271', 'ELE32164'), ('FRO40251', 'GRO94758'), ('DAI75645', 'ELE26917'), ('GRO30386', 'GRO59710'), ('GRO73461', 'ELE26917'), ('FRO40251', 'SNA99873'), ('GRO73461', 'DAI55911'), ('GRO69543', 'FRO40251'), ('ELE32164', 'GRO30386'), ('DAI62779', 'GRO56989'), ('SNA47306', 'DAI62779'), ('ELE74009', 'SNA80324'), ('ELE74482', 'ELE37048'), ('GRO73461', 'FRO32293'), ('GRO21487', 'DAI83733'), ('SNA93860', 'ELE74009'), ('GRO94173', 'SNA45677'), ('FRO85978', 'FRO31317'), ('GRO46854', 'ELE17451'), ('ELE32164', 'DAI31081'), ('SNA30533', 'SNA96271'), ('GRO46854', 'GRO56726'), ('DAI91290', 'DAI62779'), ('FRO19221', 'DAI62779'), ('FRO31317', 'GRO32086'), ('ELE99737', 'GRO94758'), ('FRO40251', 'GRO21487'), ('GRO73461', 'GRO59710'), ('GRO15017', 'SNA80324'), ('GRO21487', 'GRO30386'), ('ELE59028', 'SNA93860'), ('ELE17451', 'FRO80039'), ('DAI62779', 'GRO30386'), ('GRO73461', 'GRO69543'), ('GRO81087', 'ELE17451'), ('FRO47962', 'DAI75645'), ('GRO81087', 'FRO40251'), ('ELE37770', 'DAI70456'), ('SNA99873', 'ELE66810'), ('FRO40251', 'ELE62598'), ('DAI22177', 'ELE91337'), ('FRO40251', 'ELE17451'), ('FRO40251', 'GRO56726'), ('GRO21487', 'DAI63921'), ('DAI85309', 'ELE32164'), ('DAI62779', 'DAI63921'), ('FRO40251', 'GRO85051'), ('FRO66272', 'FRO43226'), ('GRO59710', 'DAI31081'), ('SNA18336', 'DAI85309'), ('GRO73461', 'DAI31081'), ('ELE32164', 'SNA38068'), ('DAI83733', 'DAI85309'), ('DAI42493', 'DAI62779'), ('GRO73461', 'SNA55762'), ('ELE74482', 'FRO31317'), ('DAI50913', 'GRO33815'), ('ELE74009', 'SNA72163'), ('GRO38814', 'SNA45677'), ('FRO85978', 'GRO46854'), ('DAI22177', 'ELE17451'), ('FRO40251', 'ELE59935'), ('GRO73461', 'GRO35122'), ('ELE53126', 'FRO24098'), ('ELE20847', 'SNA80324'), ('DAI62779', 'FRO78994'), ('FRO80039', 'GRO50832'), ('ELE99737', 'ELE17451'), ('ELE92920', 'DAI75645'), ('DAI62779', 'GRO88324'), ('GRO73461', 'ELE14480'), ('ELE92920', 'DAI85309'), ('ELE91337', 'FRO85978'), ('GRO46854', 'SNA93860'), ('DAI62779', 'GRO94758'), ('ELE17451', 'GRO71621'), ('FRO40251', 'DAI83948'), ('GRO21487', 'SNA99873'), ('DAI62779', 'SNA38068'), ('DAI62779', 'SNA99873'), ('DAI62779', 'DAI48126'), ('GRO73461', 'FRO16142'), ('GRO69543', 'DAI75645'), ('DAI55148', 'SNA80324'), ('GRO61133', 'DAI63921'), ('ELE32164', 'DAI43223'), ('SNA90094', 'DAI85309'), ('ELE34057', 'DAI62779'), ('GRO61133', 'DAI62779'), ('ELE62598', 'SNA38068'), ('DAI62779', 'DAI48891'), ('FRO40251', 'SNA90094'), ('GRO73461', 'FRO31317'), ('SNA55762', 'DAI62779'), ('FRO40251', 'GRO99222'), ('DAI43223', 'ELE32164'), ('ELE32164', 'ELE62598'), ('ELE32164', 'ELE17451'), ('DAI62779', 'FRO92261'), ('DAI85309', 'SNA45677'), ('DAI88807', 'DAI62779'), ('SNA45677', 'ELE26917'), ('SNA93860', 'DAI62779'), ('GRO73461', 'FRO74605'), ('GRO21487', 'ELE91337'), ('DAI62779', 'DAI43223'), ('GRO30386', 'ELE17451'), ('GRO61133', 'SNA99873'), ('GRO81087', 'DAI75645'), ('ELE17451', 'GRO30386'), ('FRO80039', 'ELE17451'), ('FRO53271', 'DAI62779'), ('GRO59710', 'DAI43223'), ('DAI62779', 'ELE68605'), ('GRO21487', 'ELE17451'), ('DAI62779', 'ELE17451'), ('DAI22896', 'DAI62779'), ('GRO21487', 'FRO40251'), ('DAI62779', 'FRO40251'), ('GRO21487', 'GRO56726'), ('FRO40251', 'DAI75645'), ('DAI42493', 'FRO40251'), ('DAI62779', 'GRO56726'), ('DAI22177', 'FRO85978'), ('DAI62779', 'GRO85051'), ('FRO40251', 'DAI85309'), ('GRO38814', 'DAI62779'), ('ELE62598', 'ELE17451'), ('GRO73461', 'FRO53271'), ('DAI62779', 'FRO79022'), ('SNA80324', 'SNA55762'), ('GRO59710', 'ELE17451'), ('GRO73461', 'GRO46854'), ('DAI92600', 'ELE17451'), ('SNA95666', 'FRO78087'), ('ELE17451', 'DAI63921'), ('FRO40251', 'GRO38636'), ('DAI62779', 'ELE59935'), ('FRO85978', 'FRO78087'), ('DAI95741', 'SNA90094'), ('SNA99873', 'ELE17451'), ('FRO78087', 'DAI62779'), ('DAI62779', 'GRO83463'), ('GRO21487', 'GRO73461'), ('DAI62779', 'GRO73461'), ('GRO73461', 'SNA12663'), ('FRO40251', 'DAI22177'), ('ELE20847', 'SNA96271'), ('GRO15017', 'ELE74009'), ('SNA59903', 'DAI62779'), ('ELE14480', 'SNA62128'), ('SNA69641', 'ELE12792'), ('ELE74009', 'SNA45677'), ('DAI75645', 'SNA80324'), ('ELE91337', 'DAI83733'), ('FRO40251', 'ELE66600'), ('GRO73461', 'SNA80324'), ('ELE37048', 'DAI22240'), ('GRO73461', 'ELE11111'), ('DAI75645', 'DAI55148'), ('GRO73461', 'DAI55148'), ('GRO81087', 'ELE26917'), ('GRO61133', 'ELE17451'), ('DAI92600', 'GRO73461'), ('DAI62779', 'DAI35347'), ('GRO61133', 'FRO40251'), ('DAI31081', 'DAI62779'), ('SNA55762', 'ELE17451'), ('SNA80324', 'FRO16142'), ('SNA45677', 'SNA55762'), ('ELE17451', 'GRO94758'), ('ELE17451', 'SNA99873'), ('GRO46854', 'DAI95741'), ('FRO40251', 'ELE26917'), ('DAI62779', 'GRO99222'), ('GRO85051', 'ELE17451'), ('DAI62779', 'DAI87448'), ('FRO19221', 'DAI85309'), ('DAI62779', 'DAI49199'), ('ELE66600', 'FRO78087'), ('GRO85051', 'FRO40251'), ('FRO40251', 'GRO71621'), ('GRO73461', 'SNA59903'), ('GRO15017', 'SNA45677'), ('FRO85978', 'GRO64900'), ('DAI85309', 'DAI62779'), ('GRO81647', 'GRO73461'), ('ELE14480', 'DAI62779'), ('SNA93860', 'ELE17451'), ('GRO69543', 'DAI31081'), ('SNA93860', 'FRO40251'), ('ELE32164', 'DAI88807'), ('FRO40251', 'DAI53152'), ('FRO85978', 'SNA95666'), ('GRO81087', 'GRO59710'), ('ELE32164', 'GRO38814'), ('GRO21487', 'SNA93860'), ('DAI62779', 'SNA93860'), ('ELE66600', 'SNA96271'), ('GRO21487', 'FRO85978'), ('DAI62779', 'FRO85978'), ('FRO40251', 'DAI83733'), ('FRO92469', 'SNA80324'), ('GRO73461', 'DAI88079'), ('DAI62779', 'GRO88511'), ('ELE17451', 'DAI43223'), ('SNA47306', 'ELE26917'), ('GRO56726', 'DAI62779'), ('DAI85309', 'GRO94758'), ('GRO73461', 'DAI91290'), ('GRO38814', 'FRO40251'), ('GRO21487', 'DAI88807'), ('DAI62779', 'DAI88807'), ('DAI62779', 'DAI75645'), ('DAI42493', 'DAI75645'), ('GRO73461', 'SNA72163'), ('SNA99873', 'FRO85978'), ('GRO21487', 'GRO38814'), ('DAI62779', 'GRO38814'), ('DAI35347', 'FRO31317'), ('ELE17451', 'FRO40251'), ('DAI62779', 'SNA55952'), ('DAI62779', 'FRO35904'), ('DAI75645', 'FRO78087'), ('GRO73461', 'FRO78087'), ('DAI43223', 'DAI62779'), ('DAI63921', 'DAI62779'), ('SNA80324', 'ELE20847'), ('SNA99873', 'DAI75645'), ('FRO40251', 'DAI31081'), ('ELE74009', 'DAI62779'), ('DAI62779', 'DAI22177'), ('FRO85978', 'SNA45677'), ('SNA40784', 'GRO71621'), ('GRO46854', 'GRO81045'), ('ELE17451', 'ELE59935'), ('ELE88583', 'SNA24799'), ('GRO73461', 'DAI42493'), ('ELE32164', 'FRO32293'), ('GRO21487', 'ELE66600'), ('ELE17451', 'GRO73461'), ('DAI62779', 'ELE66600'), ('DAI83733', 'ELE17451'), ('DAI75645', 'SNA96271'), ('GRO73461', 'SNA96271'), ('GRO38814', 'GRO36567'), ('SNA99873', 'ELE53126'), ('DAI43868', 'SNA82528'), ('GRO61133', 'DAI75645'), ('DAI62779', 'GRO64900'), ('ELE34057', 'DAI85309'), ('GRO61133', 'DAI85309'), ('FRO85978', 'SNA55762'), ('SNA55762', 'DAI75645'), ('SNA55762', 'DAI85309'), ('ELE74009', 'GRO94758'), ('GRO15017', 'DAI62779'), ('GRO21487', 'ELE26917'), ('SNA40784', 'GRO59710'), ('DAI62779', 'ELE26917'), ('GRO73461', 'ELE32164'), ('DAI85309', 'FRO40251'), ('ELE32164', 'ELE74482'), ('ELE92920', 'ELE17451'), ('GRO85051', 'DAI75645'), ('DAI92600', 'DAI42083'), ('ELE26917', 'SNA80324'), ('DAI62779', 'FRO32293'), ('GRO73461', 'ELE34057'), ('DAI85309', 'FRO79022'), ('ELE17451', 'GRO99222'), ('DAI88807', 'DAI75645'), ('SNA93860', 'DAI75645'), ('FRO40251', 'FRO31317'), ('SNA45677', 'SNA80324'), ('FRO40251', 'SNA38068'), ('SNA99873', 'ELE26917'), ('GRO36567', 'SNA45677'), ('GRO56726', 'ELE17451'), ('DAI88079', 'FRO40251'), ('DAI62779', 'DAI83733'), ('GRO21487', 'GRO59710'), ('DAI62779', 'GRO59710'), ('DAI42493', 'GRO59710'), ('DAI75645', 'ELE74009'), ('GRO73461', 'ELE74009'), ('GRO38814', 'DAI75645'), ('DAI62779', 'ELE37048'), ('GRO73461', 'ELE74482'), ('DAI85309', 'SNA90094'), ('GRO46854', 'SNA80324'), ('GRO73461', 'DAI95741'), ('GRO85051', 'ELE26917'), ('ELE17451', 'DAI75645'), ('SNA95666', 'DAI62779'), ('ELE74009', 'FRO40251'), ('ELE17451', 'DAI85309'), ('DAI83948', 'GRO88511'), ('DAI83031', 'DAI94679'), ('SNA38068', 'DAI62779'), ('DAI75645', 'SNA45677'), ('GRO73461', 'SNA45677'), ('GRO73461', 'ELE99737'), ('DAI62779', 'DAI31081'), ('ELE32164', 'FRO16142'), ('DAI63921', 'ELE59935'), ('GRO61133', 'GRO59710'), ('GRO73461', 'GRO15017'), ('DAI75645', 'FRO92469'), ('DAI63921', 'GRO73461'), ('GRO73461', 'FRO92469'), ('GRO81087', 'SNA80324'), ('ELE32164', 'FRO31317'), ('DAI31081', 'DAI75645'), ('SNA80324', 'SNA96271'), ('GRO71621', 'SNA45677'), ('GRO15017', 'FRO40251'), ('DAI62779', 'ELE14480'), ('DAI85309', 'FRO80039'), ('FRO40251', 'SNA80324'), ('FRO40251', 'ELE11111'), ('DAI88807', 'GRO59710'), ('FRO40251', 'DAI55148'), ('ELE17451', 'DAI42083'), ('DAI85309', 'DAI75645'), ('ELE66600', 'DAI62779'), ('ELE66810', 'FRO35729'), ('DAI62779', 'FRO16142'), ('GRO73461', 'GRO81087'), ('ELE17451', 'ELE26917'), ('GRO21487', 'FRO31317'), ('DAI62779', 'FRO31317'), ('SNA80324', 'FRO80039'), ('ELE92920', 'DAI23334'), ('SNA18336', 'ELE32164'), ('SNA45677', 'SNA96271'), ('ELE17451', 'FRO32293'), ('SNA90094', 'DAI75645'), ('GRO73461', 'ELE66810'), ('SNA96271', 'DAI62779'), ('GRO38983', 'ELE66600'), ('DAI91290', 'ELE17451'), ('GRO56726', 'DAI75645'), ('GRO56726', 'DAI85309'), ('DAI88807', 'DAI31081'), ('ELE66810', 'DAI62779'), ('SNA99873', 'FRO31317'), ('SNA80324', 'ELE74009'), ('GRO38983', 'ELE26917'), ('FRO17734', 'ELE28189'), ('ELE17451', 'GRO59710'), ('FRO40251', 'DAI88079'), ('SNA88283', 'GRO30386'), ('GRO73461', 'GRO44993'), ('FRO19221', 'GRO73461'), ('SNA72163', 'ELE17451'), ('GRO73461', 'SNA88283'), ('GRO69543', 'ELE32164'), ('DAI75645', 'DAI62779'), ('DAI85309', 'GRO71621'), ('GRO73461', 'DAI62779'), ('FRO40251', 'GRO32086'), ('ELE74009', 'DAI75645'), ('FRO31317', 'SNA45677'), ('FRO40251', 'SNA72163'), ('SNA99873', 'FRO92261'), ('SNA80324', 'SNA45677'), ('ELE91337', 'GRO64900'), ('GRO21487', 'GRO46854'), ('DAI62779', 'GRO46854'), ('FRO40251', 'FRO78087'), ('GRO44993', 'FRO73056'), ('GRO71621', 'DAI62779'), ('DAI42493', 'ELE17451'), ('ELE17451', 'DAI31081'), ('SNA80324', 'FRO92469'), ('DAI85309', 'DAI83733'), ('DAI75645', 'GRO94758'), ('DAI62779', 'SNA12663'), ('FRO40251', 'GRO38814'), ('GRO73461', 'GRO94758'), ('GRO15017', 'DAI75645'), ('ELE17451', 'GRO35122'), ('DAI63921', 'ELE66600'), ('GRO21487', 'SNA80324'), ('DAI75645', 'ELE20847'), ('DAI62779', 'SNA80324'), ('DAI62779', 'ELE11111'), ('FRO73056', 'GRO44993'), ('GRO73461', 'ELE20847'), ('GRO73461', 'SNA18336'), ('FRO40251', 'SNA96271'), ('GRO81087', 'ELE32164'), ('DAI62779', 'DAI55148'), ('FRO53271', 'SNA99873'), ('GRO71621', 'GRO94758'), ('FRO19221', 'SNA93860'), ('SNA18336', 'ELE92920'), ('ELE74009', 'ELE26917'), ('ELE34057', 'ELE17451'), ('GRO61133', 'GRO46854'), ('GRO88324', 'DAI62779'), ('DAI62779', 'SNA59903'), ('FRO40251', 'GRO64900'), ('ELE66810', 'FRO41939'), ('ELE17451', 'FRO31317'), ('FRO32293', 'DAI62779'), ('FRO79022', 'FRO99783'), ('FRO53271', 'GRO21487'), ('DAI62779', 'FRO99372'), ('DAI62779', 'SNA53220'), ('FRO40251', 'DAI55911'), ('GRO61133', 'SNA80324'), ('DAI88807', 'ELE17451'), ('GRO15017', 'ELE26917'), ('GRO46854', 'SNA45677'), ('FRO40251', 'FRO32293'), ('DAI43223', 'GRO59710'), ('ELE32164', 'FRO78087'), ('ELE11111', 'DAI75645'), ('GRO30386', 'SNA72163'), ('FRO85978', 'FRO80039'), ('ELE74009', 'GRO59710'), ('DAI75645', 'GRO85051'), ('GRO85051', 'SNA80324'), ('GRO73461', 'GRO85051'), ('FRO31317', 'DAI62779'), ('SNA72163', 'DAI88807'), ('DAI62779', 'DAI91290'), ('FRO53271', 'ELE17451'), ('SNA80324', 'DAI62779'), ('ELE32164', 'DAI42493'), ('FRO53271', 'FRO40251'), ('SNA93860', 'SNA80324'), ('DAI62779', 'SNA72163'), ('DAI22896', 'ELE17451'), ('FRO40251', 'ELE74482'), ('DAI85309', 'FRO31317'), ('ELE59028', 'DAI62779'), ('SNA99873', 'FRO64631'), ('DAI62779', 'FRO78087'), ('SNA18336', 'DAI62779'), ('ELE49801', 'SNA93860'), ('DAI62779', 'DAI92600'), ('FRO35904', 'ELE12845'), ('GRO73461', 'FRO24098'), ('FRO40251', 'SNA45677'), ('FRO78087', 'ELE17451'), ('ELE26917', 'DAI62779'), ('SNA80324', 'GRO94758'), ('GRO73461', 'DAI83948'), ('FRO80039', 'SNA96271'), ('DAI62779', 'DAI23334'), ('GRO81087', 'ELE92920'), ('GRO38814', 'SNA80324'), ('ELE32164', 'ELE34057'), ('SNA45677', 'DAI62779'), ('GRO56726', 'FRO31317'), ('SNA59903', 'ELE17451'), ('ELE20847', 'FRO75586'), ('DAI62779', 'SNA96271'), ('GRO73461', 'SNA90094'), ('ELE74482', 'ELE37770'), ('FRO40251', 'SNA55762'), ('DAI62779', 'DAI22240'), ('ELE17451', 'SNA80324'), ('ELE66600', 'ELE32244'), ('DAI31081', 'ELE17451'), ('ELE99737', 'SNA45677'), ('DAI55911', 'DAI75645'), ('GRO21487', 'ELE32164'), ('DAI62779', 'ELE32164'), ('ELE32164', 'ELE74009'), ('SNA45677', 'GRO94758'), ('GRO21487', 'ELE34057'), ('DAI62779', 'ELE34057'), ('DAI62779', 'ELE37770'), ('GRO59710', 'ELE32164'), ('DAI85309', 'ELE17451'), ('SNA93860', 'SNA72163'), ('ELE17451', 'SNA59903'), ('GRO46854', 'DAI62779'), ('ELE53126', 'FRO31317'), ('DAI62779', 'DAI55911'), ('FRO40251', 'FRO16142'), ('SNA80324', 'FRO61354'), ('FRO53271', 'GRO32086'), ('FRO31317', 'FRO40251'), ('GRO73461', 'FRO80039'), ('ELE59935', 'DAI62779'), ('GRO21487', 'ELE74009'), ('GRO73461', 'DAI75645'), ('SNA80324', 'FRO40251'), ('DAI62779', 'ELE74009'), ('FRO35904', 'DAI62779'), ('ELE32164', 'SNA45677'), ('GRO73461', 'DAI85309'), ('GRO15017', 'FRO31317'), ('SNA80324', 'GRO85051'), ('GRO61133', 'ELE32164'), ('GRO56726', 'GRO46854'), ('GRO81087', 'DAI62779'), ('GRO15017', 'SNA99873'), ('DAI62779', 'ELE49801'), ('FRO53271', 'DAI75645'), ('FRO40251', 'ELE56788'), ('GRO73461', 'FRO35904'), ('SNA90258', 'GRO99222'), ('DAI62779', 'ELE74482'), ('SNA96271', 'ELE26917'), ('ELE17451', 'DAI91290'), ('DAI22896', 'DAI75645'), ('GRO71621', 'DAI75645'), ('GRO94758', 'DAI62779'), ('FRO80039', 'SNA45677'), ('DAI62779', 'DAI95741'), ('GRO71621', 'DAI85309'), ('DAI22896', 'GRO38814'), ('ELE17451', 'SNA72163'), ('FRO53271', 'ELE53126'), ('DAI62779', 'FRO66272'), ('GRO21487', 'SNA45677'), ('SNA93860', 'ELE32164'), ('DAI62779', 'ELE99737'), ('DAI62779', 'SNA45677'), ('GRO73461', 'DAI73122'), ('DAI43223', 'ELE17451'), ('ELE17451', 'FRO78087'), ('SNA99873', 'ELE74482'), ('ELE17451', 'DAI88807'), ('FRO85978', 'DAI63921'), ('ELE74009', 'ELE17451'), ('ELE17451', 'DAI92600'), ('GRO85051', 'DAI55911'), ('DAI22177', 'DAI62779'), ('FRO85978', 'DAI62779'), ('DAI62779', 'FRO92469'), ('GRO73461', 'DAI22896'), ('SNA59903', 'DAI88807'), ('GRO59710', 'SNA45677')}\n"
     ]
    }
   ],
   "source": [
    "min_support = 100\n",
    "frequent_itemsets_pcy = pcy(dataset, min_support)\n",
    "print(\"Frequent Itemsets (PCY):\", frequent_itemsets_pcy)"
   ]
  },
  {
   "cell_type": "code",
   "execution_count": 9,
   "metadata": {},
   "outputs": [],
   "source": [
    "def generate_association_rules(frequent_itemsets, dataset, min_confidence):\n",
    "    item_counts = defaultdict(int)\n",
    "    for transaction in dataset:\n",
    "        for item in transaction:\n",
    "            item_counts[item] += 1\n",
    "\n",
    "    rules = []\n",
    "    for itemset in frequent_itemsets:\n",
    "        for item in itemset:\n",
    "            antecedent = {item}\n",
    "            consequent = set(itemset) - antecedent\n",
    "            if consequent:\n",
    "                antecedent_count = sum(1 for transaction in dataset if antecedent.issubset(transaction))\n",
    "                rule_count = sum(1 for transaction in dataset if antecedent.issubset(transaction) and consequent.issubset(transaction))\n",
    "                confidence = rule_count / antecedent_count\n",
    "                if confidence >= min_confidence:\n",
    "                    rules.append((antecedent, consequent, confidence))\n",
    "    return rules"
   ]
  },
  {
   "cell_type": "code",
   "execution_count": 10,
   "metadata": {},
   "outputs": [
    {
     "name": "stdout",
     "output_type": "stream",
     "text": [
      "Association Rules (PCY):\n",
      "({'DAI55148'}, {'DAI62779'}, 0.5394871794871795)\n",
      "({'ELE20847'}, {'FRO40251'}, 0.530562347188264)\n",
      "({'ELE21353'}, {'DAI62779'}, 0.5023255813953489)\n",
      "({'ELE20847'}, {'FRO40251'}, 0.530562347188264)\n",
      "({'DAI93865'}, {'FRO40251'}, 1.0)\n",
      "({'SNA30859'}, {'GRO24246'}, 0.53125)\n",
      "({'FRO92469'}, {'FRO40251'}, 0.983510011778563)\n",
      "({'GRO89004'}, {'ELE25077'}, 0.698051948051948)\n",
      "({'FRO92469'}, {'FRO40251'}, 0.983510011778563)\n",
      "({'ELE92920'}, {'DAI62779'}, 0.7326649958228906)\n",
      "({'DAI46755'}, {'FRO81176'}, 0.5803921568627451)\n",
      "({'SNA30533'}, {'SNA96271'}, 0.5090361445783133)\n",
      "({'FRO19221'}, {'DAI62779'}, 0.5976714100905562)\n",
      "({'FRO47962'}, {'DAI75645'}, 0.6176470588235294)\n",
      "({'GRO85051'}, {'FRO40251'}, 0.999176276771005)\n",
      "({'ELE20847'}, {'SNA80324'}, 0.5012224938875306)\n",
      "({'DAI43223'}, {'ELE32164'}, 0.5511627906976744)\n",
      "({'DAI43223'}, {'ELE32164'}, 0.5511627906976744)\n",
      "({'GRO38636'}, {'FRO40251'}, 0.9906542056074766)\n",
      "({'GRO85051'}, {'FRO40251'}, 0.999176276771005)\n",
      "({'GRO81647'}, {'GRO73461'}, 0.6775510204081633)\n",
      "({'DAI53152'}, {'FRO40251'}, 0.717948717948718)\n",
      "({'SNA95666'}, {'FRO85978'}, 0.5758706467661692)\n",
      "({'ELE20847'}, {'SNA80324'}, 0.5012224938875306)\n",
      "({'GRO81045'}, {'GRO46854'}, 0.5674603174603174)\n",
      "({'ELE88583'}, {'SNA24799'}, 0.5792682926829268)\n",
      "({'DAI43868'}, {'SNA82528'}, 0.972972972972973)\n",
      "({'DAI88079'}, {'FRO40251'}, 0.9867256637168141)\n",
      "({'DAI23334'}, {'ELE92920'}, 0.5)\n",
      "({'FRO17734'}, {'ELE28189'}, 0.5815602836879432)\n",
      "({'DAI88079'}, {'FRO40251'}, 0.9867256637168141)\n",
      "({'FRO73056'}, {'GRO44993'}, 0.6016483516483516)\n",
      "({'FRO73056'}, {'GRO44993'}, 0.6016483516483516)\n",
      "({'DAI55148'}, {'DAI62779'}, 0.5394871794871795)\n",
      "({'SNA18336'}, {'ELE92920'}, 0.6417489421720733)\n",
      "({'FRO41939'}, {'ELE66810'}, 0.5735294117647058)\n",
      "({'ELE59028'}, {'DAI62779'}, 0.549777117384844)\n",
      "({'SNA18336'}, {'DAI62779'}, 0.7136812411847673)\n",
      "({'DAI23334'}, {'DAI62779'}, 0.9545454545454546)\n",
      "({'ELE32244'}, {'ELE66600'}, 0.6403508771929824)\n"
     ]
    }
   ],
   "source": [
    "\n",
    "\n",
    "\n",
    "min_confidence = 0.5\n",
    "\n",
    "\n",
    "\n",
    "\n",
    "association_rules_pcy = generate_association_rules(frequent_itemsets_pcy, dataset, min_confidence)\n",
    "print(\"Association Rules (PCY):\")\n",
    "for rule in association_rules_pcy:\n",
    "    print(rule)\n"
   ]
  },
  {
   "cell_type": "code",
   "execution_count": null,
   "metadata": {},
   "outputs": [],
   "source": []
  }
 ],
 "metadata": {
  "kernelspec": {
   "display_name": "myenv",
   "language": "python",
   "name": "python3"
  },
  "language_info": {
   "codemirror_mode": {
    "name": "ipython",
    "version": 3
   },
   "file_extension": ".py",
   "mimetype": "text/x-python",
   "name": "python",
   "nbconvert_exporter": "python",
   "pygments_lexer": "ipython3",
   "version": "3.10.13"
  }
 },
 "nbformat": 4,
 "nbformat_minor": 2
}
